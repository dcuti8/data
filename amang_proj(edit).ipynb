{
  "nbformat": 4,
  "nbformat_minor": 0,
  "metadata": {
    "colab": {
      "name": "amang_proj(edit).ipynb",
      "provenance": [],
      "collapsed_sections": []
    },
    "kernelspec": {
      "name": "python3",
      "display_name": "Python 3"
    },
    "language_info": {
      "name": "python"
    },
    "accelerator": "GPU"
  },
  "cells": [
    {
      "cell_type": "markdown",
      "metadata": {
        "id": "J99fh0SdKgxB"
      },
      "source": [
        "***Final Group Project (COMP6105)***<br/>\n",
        "Kary Ng(p1404599)<br/>\n",
        "Bryant Ho(p1604811)<br/>\n",
        "Cyril Fong(p1604918)\n",
        "\n",
        "Project: **Student Performance Classification Analysis**\n"
      ]
    },
    {
      "cell_type": "code",
      "metadata": {
        "id": "mmS8QGsFowcN"
      },
      "source": [
        "import numpy as np\n",
        "import pandas as pd\n",
        "import matplotlib.pyplot as plt\n",
        "%matplotlib inline\n",
        "import seaborn as sns\n",
        "sns.set_style('whitegrid')\n",
        "import statsmodels.api as sm"
      ],
      "execution_count": 45,
      "outputs": []
    },
    {
      "cell_type": "markdown",
      "metadata": {
        "id": "UZ3YU8NE7Mh9"
      },
      "source": [
        "# Pre-processing"
      ]
    },
    {
      "cell_type": "markdown",
      "metadata": {
        "id": "Oe036QNTL16Q"
      },
      "source": [
        "***Load dataset***\n"
      ]
    },
    {
      "cell_type": "code",
      "metadata": {
        "id": "eQU6UnhmqCC7"
      },
      "source": [
        "# load datasets for two subjects, Math and Portuguese\n",
        "mat = pd.read_csv(\"https://raw.githubusercontent.com/dcuti8/data/main/student-mat.csv\", sep=';')\n",
        "por = pd.read_csv(\"https://raw.githubusercontent.com/dcuti8/data/main/student-por.csv\", sep=';')\n",
        "\n",
        "# merge datasets\n",
        "df = pd.concat([mat,por])"
      ],
      "execution_count": 46,
      "outputs": []
    },
    {
      "cell_type": "code",
      "metadata": {
        "id": "RpOiKEkN6jyn"
      },
      "source": [
        "# rename column labels\n",
        "df.columns = ['school','sex','age','address','family_size','parents_status','mother_education','father_education',\n",
        "           'mother_job','father_job','reason','guardian','commute_time','study_time','failures','school_support',\n",
        "          'family_support','paid_classes','activities','nursery','desire_higher_edu','internet','romantic','family_quality',\n",
        "          'free_time','go_out','weekday_alcohol_usage','weekend_alcohol_usage','health','absences','period1_score','period2_score','final_score']"
      ],
      "execution_count": 47,
      "outputs": []
    },
    {
      "cell_type": "code",
      "metadata": {
        "colab": {
          "base_uri": "https://localhost:8080/",
          "height": 224
        },
        "id": "6QGEdJbV8SlZ",
        "outputId": "f70f90cc-de0d-479d-9931-fa0297f9ca8e"
      },
      "source": [
        "#df=df.drop([\"period1_score\",\"period2_score\"],axis=1)\n",
        "\n",
        "# convert final_score to categorical variable # Good:>14 Fair:10-14 Poor:0~10\n",
        "df['final_grade'] = 'na'\n",
        "df.loc[(df.final_score > 14) , 'final_grade'] = 'good' \n",
        "df.loc[(df.final_score > 10) & (df.final_score <= 14), 'final_grade'] = 'fair' \n",
        "df.loc[(df.final_score >= 0) & (df.final_score <= 10), 'final_grade'] = 'poor' \n",
        "df.head(5)"
      ],
      "execution_count": 48,
      "outputs": [
        {
          "output_type": "execute_result",
          "data": {
            "text/html": [
              "<div>\n",
              "<style scoped>\n",
              "    .dataframe tbody tr th:only-of-type {\n",
              "        vertical-align: middle;\n",
              "    }\n",
              "\n",
              "    .dataframe tbody tr th {\n",
              "        vertical-align: top;\n",
              "    }\n",
              "\n",
              "    .dataframe thead th {\n",
              "        text-align: right;\n",
              "    }\n",
              "</style>\n",
              "<table border=\"1\" class=\"dataframe\">\n",
              "  <thead>\n",
              "    <tr style=\"text-align: right;\">\n",
              "      <th></th>\n",
              "      <th>school</th>\n",
              "      <th>sex</th>\n",
              "      <th>age</th>\n",
              "      <th>address</th>\n",
              "      <th>family_size</th>\n",
              "      <th>parents_status</th>\n",
              "      <th>mother_education</th>\n",
              "      <th>father_education</th>\n",
              "      <th>mother_job</th>\n",
              "      <th>father_job</th>\n",
              "      <th>reason</th>\n",
              "      <th>guardian</th>\n",
              "      <th>commute_time</th>\n",
              "      <th>study_time</th>\n",
              "      <th>failures</th>\n",
              "      <th>school_support</th>\n",
              "      <th>family_support</th>\n",
              "      <th>paid_classes</th>\n",
              "      <th>activities</th>\n",
              "      <th>nursery</th>\n",
              "      <th>desire_higher_edu</th>\n",
              "      <th>internet</th>\n",
              "      <th>romantic</th>\n",
              "      <th>family_quality</th>\n",
              "      <th>free_time</th>\n",
              "      <th>go_out</th>\n",
              "      <th>weekday_alcohol_usage</th>\n",
              "      <th>weekend_alcohol_usage</th>\n",
              "      <th>health</th>\n",
              "      <th>absences</th>\n",
              "      <th>period1_score</th>\n",
              "      <th>period2_score</th>\n",
              "      <th>final_score</th>\n",
              "      <th>final_grade</th>\n",
              "    </tr>\n",
              "  </thead>\n",
              "  <tbody>\n",
              "    <tr>\n",
              "      <th>0</th>\n",
              "      <td>GP</td>\n",
              "      <td>F</td>\n",
              "      <td>18</td>\n",
              "      <td>U</td>\n",
              "      <td>GT3</td>\n",
              "      <td>A</td>\n",
              "      <td>4</td>\n",
              "      <td>4</td>\n",
              "      <td>at_home</td>\n",
              "      <td>teacher</td>\n",
              "      <td>course</td>\n",
              "      <td>mother</td>\n",
              "      <td>2</td>\n",
              "      <td>2</td>\n",
              "      <td>0</td>\n",
              "      <td>yes</td>\n",
              "      <td>no</td>\n",
              "      <td>no</td>\n",
              "      <td>no</td>\n",
              "      <td>yes</td>\n",
              "      <td>yes</td>\n",
              "      <td>no</td>\n",
              "      <td>no</td>\n",
              "      <td>4</td>\n",
              "      <td>3</td>\n",
              "      <td>4</td>\n",
              "      <td>1</td>\n",
              "      <td>1</td>\n",
              "      <td>3</td>\n",
              "      <td>6</td>\n",
              "      <td>5</td>\n",
              "      <td>6</td>\n",
              "      <td>6</td>\n",
              "      <td>poor</td>\n",
              "    </tr>\n",
              "    <tr>\n",
              "      <th>1</th>\n",
              "      <td>GP</td>\n",
              "      <td>F</td>\n",
              "      <td>17</td>\n",
              "      <td>U</td>\n",
              "      <td>GT3</td>\n",
              "      <td>T</td>\n",
              "      <td>1</td>\n",
              "      <td>1</td>\n",
              "      <td>at_home</td>\n",
              "      <td>other</td>\n",
              "      <td>course</td>\n",
              "      <td>father</td>\n",
              "      <td>1</td>\n",
              "      <td>2</td>\n",
              "      <td>0</td>\n",
              "      <td>no</td>\n",
              "      <td>yes</td>\n",
              "      <td>no</td>\n",
              "      <td>no</td>\n",
              "      <td>no</td>\n",
              "      <td>yes</td>\n",
              "      <td>yes</td>\n",
              "      <td>no</td>\n",
              "      <td>5</td>\n",
              "      <td>3</td>\n",
              "      <td>3</td>\n",
              "      <td>1</td>\n",
              "      <td>1</td>\n",
              "      <td>3</td>\n",
              "      <td>4</td>\n",
              "      <td>5</td>\n",
              "      <td>5</td>\n",
              "      <td>6</td>\n",
              "      <td>poor</td>\n",
              "    </tr>\n",
              "    <tr>\n",
              "      <th>2</th>\n",
              "      <td>GP</td>\n",
              "      <td>F</td>\n",
              "      <td>15</td>\n",
              "      <td>U</td>\n",
              "      <td>LE3</td>\n",
              "      <td>T</td>\n",
              "      <td>1</td>\n",
              "      <td>1</td>\n",
              "      <td>at_home</td>\n",
              "      <td>other</td>\n",
              "      <td>other</td>\n",
              "      <td>mother</td>\n",
              "      <td>1</td>\n",
              "      <td>2</td>\n",
              "      <td>3</td>\n",
              "      <td>yes</td>\n",
              "      <td>no</td>\n",
              "      <td>yes</td>\n",
              "      <td>no</td>\n",
              "      <td>yes</td>\n",
              "      <td>yes</td>\n",
              "      <td>yes</td>\n",
              "      <td>no</td>\n",
              "      <td>4</td>\n",
              "      <td>3</td>\n",
              "      <td>2</td>\n",
              "      <td>2</td>\n",
              "      <td>3</td>\n",
              "      <td>3</td>\n",
              "      <td>10</td>\n",
              "      <td>7</td>\n",
              "      <td>8</td>\n",
              "      <td>10</td>\n",
              "      <td>poor</td>\n",
              "    </tr>\n",
              "    <tr>\n",
              "      <th>3</th>\n",
              "      <td>GP</td>\n",
              "      <td>F</td>\n",
              "      <td>15</td>\n",
              "      <td>U</td>\n",
              "      <td>GT3</td>\n",
              "      <td>T</td>\n",
              "      <td>4</td>\n",
              "      <td>2</td>\n",
              "      <td>health</td>\n",
              "      <td>services</td>\n",
              "      <td>home</td>\n",
              "      <td>mother</td>\n",
              "      <td>1</td>\n",
              "      <td>3</td>\n",
              "      <td>0</td>\n",
              "      <td>no</td>\n",
              "      <td>yes</td>\n",
              "      <td>yes</td>\n",
              "      <td>yes</td>\n",
              "      <td>yes</td>\n",
              "      <td>yes</td>\n",
              "      <td>yes</td>\n",
              "      <td>yes</td>\n",
              "      <td>3</td>\n",
              "      <td>2</td>\n",
              "      <td>2</td>\n",
              "      <td>1</td>\n",
              "      <td>1</td>\n",
              "      <td>5</td>\n",
              "      <td>2</td>\n",
              "      <td>15</td>\n",
              "      <td>14</td>\n",
              "      <td>15</td>\n",
              "      <td>good</td>\n",
              "    </tr>\n",
              "    <tr>\n",
              "      <th>4</th>\n",
              "      <td>GP</td>\n",
              "      <td>F</td>\n",
              "      <td>16</td>\n",
              "      <td>U</td>\n",
              "      <td>GT3</td>\n",
              "      <td>T</td>\n",
              "      <td>3</td>\n",
              "      <td>3</td>\n",
              "      <td>other</td>\n",
              "      <td>other</td>\n",
              "      <td>home</td>\n",
              "      <td>father</td>\n",
              "      <td>1</td>\n",
              "      <td>2</td>\n",
              "      <td>0</td>\n",
              "      <td>no</td>\n",
              "      <td>yes</td>\n",
              "      <td>yes</td>\n",
              "      <td>no</td>\n",
              "      <td>yes</td>\n",
              "      <td>yes</td>\n",
              "      <td>no</td>\n",
              "      <td>no</td>\n",
              "      <td>4</td>\n",
              "      <td>3</td>\n",
              "      <td>2</td>\n",
              "      <td>1</td>\n",
              "      <td>2</td>\n",
              "      <td>5</td>\n",
              "      <td>4</td>\n",
              "      <td>6</td>\n",
              "      <td>10</td>\n",
              "      <td>10</td>\n",
              "      <td>poor</td>\n",
              "    </tr>\n",
              "  </tbody>\n",
              "</table>\n",
              "</div>"
            ],
            "text/plain": [
              "  school sex  age  ... period2_score final_score final_grade\n",
              "0     GP   F   18  ...             6           6        poor\n",
              "1     GP   F   17  ...             5           6        poor\n",
              "2     GP   F   15  ...             8          10        poor\n",
              "3     GP   F   15  ...            14          15        good\n",
              "4     GP   F   16  ...            10          10        poor\n",
              "\n",
              "[5 rows x 34 columns]"
            ]
          },
          "metadata": {
            "tags": []
          },
          "execution_count": 48
        }
      ]
    },
    {
      "cell_type": "code",
      "metadata": {
        "id": "AAFiuRpd86Ak"
      },
      "source": [
        "#df.dtypes\n",
        "#df.describe()\n",
        "#checking for null values\n",
        "#df.isnull().any()"
      ],
      "execution_count": 49,
      "outputs": []
    },
    {
      "cell_type": "markdown",
      "metadata": {
        "id": "St-3B09wL7sg"
      },
      "source": [
        "***Data normalization***"
      ]
    },
    {
      "cell_type": "code",
      "metadata": {
        "colab": {
          "base_uri": "https://localhost:8080/",
          "height": 224
        },
        "id": "Hwvgb-TZxlq3",
        "outputId": "3e16d931-ef6f-41c9-89e7-934a1757c546"
      },
      "source": [
        "# create dataframe dfd for classification\n",
        "dfd = df.copy()\n",
        "dfd = dfd.drop(['final_score'], axis=1)#use final_grade as label\n",
        "\n",
        "#data normalization\n",
        "from sklearn import preprocessing\n",
        "le = preprocessing.LabelEncoder()\n",
        "dfd.final_grade = le.fit_transform(dfd.final_grade)\n",
        "dfd.school_support = le.fit_transform(dfd.school_support)\n",
        "dfd.family_support = le.fit_transform(dfd.family_support)\n",
        "dfd.paid_classes = le.fit_transform(dfd.paid_classes)\n",
        "dfd.activities = le.fit_transform(dfd.activities)\n",
        "dfd.nursery = le.fit_transform(dfd.nursery)\n",
        "dfd.desire_higher_edu = le.fit_transform(dfd.desire_higher_edu)\n",
        "dfd.internet = le.fit_transform(dfd.internet)\n",
        "dfd.romantic = le.fit_transform(dfd.romantic)\n",
        "dfd.school = le.fit_transform(dfd.school)\n",
        "dfd.sex = le.fit_transform(dfd.sex)\n",
        "dfd.address = le.fit_transform(dfd.address)\n",
        "dfd.family_size = le.fit_transform(dfd.family_size)\n",
        "dfd.parents_status = le.fit_transform(dfd.parents_status)\n",
        "dfd.mother_job = le.fit_transform(dfd.mother_job)\n",
        "dfd.father_job = le.fit_transform(dfd.father_job)\n",
        "dfd.reason = le.fit_transform(dfd.reason)\n",
        "dfd.guardian = le.fit_transform(dfd.guardian)\n",
        "\n",
        "dfd.head(5)"
      ],
      "execution_count": 50,
      "outputs": [
        {
          "output_type": "execute_result",
          "data": {
            "text/html": [
              "<div>\n",
              "<style scoped>\n",
              "    .dataframe tbody tr th:only-of-type {\n",
              "        vertical-align: middle;\n",
              "    }\n",
              "\n",
              "    .dataframe tbody tr th {\n",
              "        vertical-align: top;\n",
              "    }\n",
              "\n",
              "    .dataframe thead th {\n",
              "        text-align: right;\n",
              "    }\n",
              "</style>\n",
              "<table border=\"1\" class=\"dataframe\">\n",
              "  <thead>\n",
              "    <tr style=\"text-align: right;\">\n",
              "      <th></th>\n",
              "      <th>school</th>\n",
              "      <th>sex</th>\n",
              "      <th>age</th>\n",
              "      <th>address</th>\n",
              "      <th>family_size</th>\n",
              "      <th>parents_status</th>\n",
              "      <th>mother_education</th>\n",
              "      <th>father_education</th>\n",
              "      <th>mother_job</th>\n",
              "      <th>father_job</th>\n",
              "      <th>reason</th>\n",
              "      <th>guardian</th>\n",
              "      <th>commute_time</th>\n",
              "      <th>study_time</th>\n",
              "      <th>failures</th>\n",
              "      <th>school_support</th>\n",
              "      <th>family_support</th>\n",
              "      <th>paid_classes</th>\n",
              "      <th>activities</th>\n",
              "      <th>nursery</th>\n",
              "      <th>desire_higher_edu</th>\n",
              "      <th>internet</th>\n",
              "      <th>romantic</th>\n",
              "      <th>family_quality</th>\n",
              "      <th>free_time</th>\n",
              "      <th>go_out</th>\n",
              "      <th>weekday_alcohol_usage</th>\n",
              "      <th>weekend_alcohol_usage</th>\n",
              "      <th>health</th>\n",
              "      <th>absences</th>\n",
              "      <th>period1_score</th>\n",
              "      <th>period2_score</th>\n",
              "      <th>final_grade</th>\n",
              "    </tr>\n",
              "  </thead>\n",
              "  <tbody>\n",
              "    <tr>\n",
              "      <th>0</th>\n",
              "      <td>0</td>\n",
              "      <td>0</td>\n",
              "      <td>18</td>\n",
              "      <td>1</td>\n",
              "      <td>0</td>\n",
              "      <td>0</td>\n",
              "      <td>4</td>\n",
              "      <td>4</td>\n",
              "      <td>0</td>\n",
              "      <td>4</td>\n",
              "      <td>0</td>\n",
              "      <td>1</td>\n",
              "      <td>2</td>\n",
              "      <td>2</td>\n",
              "      <td>0</td>\n",
              "      <td>1</td>\n",
              "      <td>0</td>\n",
              "      <td>0</td>\n",
              "      <td>0</td>\n",
              "      <td>1</td>\n",
              "      <td>1</td>\n",
              "      <td>0</td>\n",
              "      <td>0</td>\n",
              "      <td>4</td>\n",
              "      <td>3</td>\n",
              "      <td>4</td>\n",
              "      <td>1</td>\n",
              "      <td>1</td>\n",
              "      <td>3</td>\n",
              "      <td>6</td>\n",
              "      <td>5</td>\n",
              "      <td>6</td>\n",
              "      <td>2</td>\n",
              "    </tr>\n",
              "    <tr>\n",
              "      <th>1</th>\n",
              "      <td>0</td>\n",
              "      <td>0</td>\n",
              "      <td>17</td>\n",
              "      <td>1</td>\n",
              "      <td>0</td>\n",
              "      <td>1</td>\n",
              "      <td>1</td>\n",
              "      <td>1</td>\n",
              "      <td>0</td>\n",
              "      <td>2</td>\n",
              "      <td>0</td>\n",
              "      <td>0</td>\n",
              "      <td>1</td>\n",
              "      <td>2</td>\n",
              "      <td>0</td>\n",
              "      <td>0</td>\n",
              "      <td>1</td>\n",
              "      <td>0</td>\n",
              "      <td>0</td>\n",
              "      <td>0</td>\n",
              "      <td>1</td>\n",
              "      <td>1</td>\n",
              "      <td>0</td>\n",
              "      <td>5</td>\n",
              "      <td>3</td>\n",
              "      <td>3</td>\n",
              "      <td>1</td>\n",
              "      <td>1</td>\n",
              "      <td>3</td>\n",
              "      <td>4</td>\n",
              "      <td>5</td>\n",
              "      <td>5</td>\n",
              "      <td>2</td>\n",
              "    </tr>\n",
              "    <tr>\n",
              "      <th>2</th>\n",
              "      <td>0</td>\n",
              "      <td>0</td>\n",
              "      <td>15</td>\n",
              "      <td>1</td>\n",
              "      <td>1</td>\n",
              "      <td>1</td>\n",
              "      <td>1</td>\n",
              "      <td>1</td>\n",
              "      <td>0</td>\n",
              "      <td>2</td>\n",
              "      <td>2</td>\n",
              "      <td>1</td>\n",
              "      <td>1</td>\n",
              "      <td>2</td>\n",
              "      <td>3</td>\n",
              "      <td>1</td>\n",
              "      <td>0</td>\n",
              "      <td>1</td>\n",
              "      <td>0</td>\n",
              "      <td>1</td>\n",
              "      <td>1</td>\n",
              "      <td>1</td>\n",
              "      <td>0</td>\n",
              "      <td>4</td>\n",
              "      <td>3</td>\n",
              "      <td>2</td>\n",
              "      <td>2</td>\n",
              "      <td>3</td>\n",
              "      <td>3</td>\n",
              "      <td>10</td>\n",
              "      <td>7</td>\n",
              "      <td>8</td>\n",
              "      <td>2</td>\n",
              "    </tr>\n",
              "    <tr>\n",
              "      <th>3</th>\n",
              "      <td>0</td>\n",
              "      <td>0</td>\n",
              "      <td>15</td>\n",
              "      <td>1</td>\n",
              "      <td>0</td>\n",
              "      <td>1</td>\n",
              "      <td>4</td>\n",
              "      <td>2</td>\n",
              "      <td>1</td>\n",
              "      <td>3</td>\n",
              "      <td>1</td>\n",
              "      <td>1</td>\n",
              "      <td>1</td>\n",
              "      <td>3</td>\n",
              "      <td>0</td>\n",
              "      <td>0</td>\n",
              "      <td>1</td>\n",
              "      <td>1</td>\n",
              "      <td>1</td>\n",
              "      <td>1</td>\n",
              "      <td>1</td>\n",
              "      <td>1</td>\n",
              "      <td>1</td>\n",
              "      <td>3</td>\n",
              "      <td>2</td>\n",
              "      <td>2</td>\n",
              "      <td>1</td>\n",
              "      <td>1</td>\n",
              "      <td>5</td>\n",
              "      <td>2</td>\n",
              "      <td>15</td>\n",
              "      <td>14</td>\n",
              "      <td>1</td>\n",
              "    </tr>\n",
              "    <tr>\n",
              "      <th>4</th>\n",
              "      <td>0</td>\n",
              "      <td>0</td>\n",
              "      <td>16</td>\n",
              "      <td>1</td>\n",
              "      <td>0</td>\n",
              "      <td>1</td>\n",
              "      <td>3</td>\n",
              "      <td>3</td>\n",
              "      <td>2</td>\n",
              "      <td>2</td>\n",
              "      <td>1</td>\n",
              "      <td>0</td>\n",
              "      <td>1</td>\n",
              "      <td>2</td>\n",
              "      <td>0</td>\n",
              "      <td>0</td>\n",
              "      <td>1</td>\n",
              "      <td>1</td>\n",
              "      <td>0</td>\n",
              "      <td>1</td>\n",
              "      <td>1</td>\n",
              "      <td>0</td>\n",
              "      <td>0</td>\n",
              "      <td>4</td>\n",
              "      <td>3</td>\n",
              "      <td>2</td>\n",
              "      <td>1</td>\n",
              "      <td>2</td>\n",
              "      <td>5</td>\n",
              "      <td>4</td>\n",
              "      <td>6</td>\n",
              "      <td>10</td>\n",
              "      <td>2</td>\n",
              "    </tr>\n",
              "  </tbody>\n",
              "</table>\n",
              "</div>"
            ],
            "text/plain": [
              "   school  sex  age  ...  period1_score  period2_score  final_grade\n",
              "0       0    0   18  ...              5              6            2\n",
              "1       0    0   17  ...              5              5            2\n",
              "2       0    0   15  ...              7              8            2\n",
              "3       0    0   15  ...             15             14            1\n",
              "4       0    0   16  ...              6             10            2\n",
              "\n",
              "[5 rows x 33 columns]"
            ]
          },
          "metadata": {
            "tags": []
          },
          "execution_count": 50
        }
      ]
    },
    {
      "cell_type": "code",
      "metadata": {
        "colab": {
          "base_uri": "https://localhost:8080/"
        },
        "id": "PL9AXVSkxslv",
        "outputId": "9475d73c-76ad-4a2b-c200-53769ab9804e"
      },
      "source": [
        "#separate the input X and output label y\n",
        "X = dfd.drop('final_grade',axis=1)\n",
        "y = dfd.final_grade\n",
        "\n",
        "# see total number of features\n",
        "print(X.shape)"
      ],
      "execution_count": 51,
      "outputs": [
        {
          "output_type": "stream",
          "text": [
            "(1044, 32)\n"
          ],
          "name": "stdout"
        }
      ]
    },
    {
      "cell_type": "markdown",
      "metadata": {
        "id": "6fef2E1rNEdH"
      },
      "source": [
        "***Feature selection***"
      ]
    },
    {
      "cell_type": "code",
      "metadata": {
        "colab": {
          "base_uri": "https://localhost:8080/",
          "height": 1000
        },
        "id": "fdFq5StkxzT_",
        "outputId": "1d182a1f-5ec7-4d06-b833-a4e75c69e00d"
      },
      "source": [
        "# random forest for feature importance on a classification problem\n",
        "from sklearn.ensemble import RandomForestClassifier\n",
        "\n",
        "# define the model\n",
        "model = RandomForestClassifier(n_estimators=500,criterion=\"entropy\",random_state=0)\n",
        "# fit the model\n",
        "model.fit(X, y)\n",
        "# get importance\n",
        "importances = model.feature_importances_\n",
        "\n",
        "#sort importance feature\n",
        "indices = np.argsort(importances)\n",
        "# Rearrange feature names so they match the sorted feature importances\n",
        "names = [X.columns[i] for i in indices]\n",
        "for f in range(X.shape[1]):\n",
        "  print(\"%2d) %-*s %f\" % (f + 1, 30, names[f], importances[indices[f]]))\n",
        "\n",
        "# Barplot: Add bars\n",
        "plt.figure(figsize=(20,10))\n",
        "plt.bar(range(X.shape[1]), importances[indices],width=0.5)\n",
        "# Add feature names as x-axis labels\n",
        "plt.xticks(range(X.shape[1]),names, rotation=90, fontsize = 12)\n",
        "#from here we cam see that absences is the important features for determining the grades of students\n",
        "\n",
        "plt.title(\"Feature Importance\")\n",
        "plt.show()"
      ],
      "execution_count": 52,
      "outputs": [
        {
          "output_type": "stream",
          "text": [
            " 1) parents_status                 0.004353\n",
            " 2) internet                       0.005972\n",
            " 3) family_support                 0.007028\n",
            " 4) nursery                        0.007211\n",
            " 5) address                        0.007212\n",
            " 6) romantic                       0.007585\n",
            " 7) sex                            0.007594\n",
            " 8) family_size                    0.007642\n",
            " 9) activities                     0.008102\n",
            "10) school                         0.008374\n",
            "11) school_support                 0.008449\n",
            "12) desire_higher_edu              0.009486\n",
            "13) paid_classes                   0.009572\n",
            "14) guardian                       0.009913\n",
            "15) weekday_alcohol_usage          0.011837\n",
            "16) commute_time                   0.013194\n",
            "17) family_quality                 0.014380\n",
            "18) reason                         0.014859\n",
            "19) study_time                     0.015514\n",
            "20) father_job                     0.015810\n",
            "21) weekend_alcohol_usage          0.016744\n",
            "22) mother_job                     0.017156\n",
            "23) free_time                      0.017259\n",
            "24) father_education               0.018024\n",
            "25) go_out                         0.018842\n",
            "26) mother_education               0.018976\n",
            "27) health                         0.019344\n",
            "28) age                            0.020707\n",
            "29) absences                       0.030593\n",
            "30) failures                       0.031070\n",
            "31) period1_score                  0.225406\n",
            "32) period2_score                  0.371792\n"
          ],
          "name": "stdout"
        },
        {
          "output_type": "display_data",
          "data": {
            "image/png": "[encoded data removed]",
            "text/plain": [
              "<Figure size 1440x720 with 1 Axes>"
            ]
          },
          "metadata": {
            "tags": []
          }
        }
      ]
    },
    {
      "cell_type": "markdown",
      "metadata": {
        "id": "VMfd-RZ9x4Xl"
      },
      "source": [
        "remove the unimportant feature from data"
      ]
    },
    {
      "cell_type": "code",
      "metadata": {
        "colab": {
          "base_uri": "https://localhost:8080/",
          "height": 258
        },
        "id": "tAWlUDxmx2qX",
        "outputId": "23f04536-a426-4498-ffdd-802c125a91e4"
      },
      "source": [
        "print(\"Original number of features:\", len(X.columns[:]))\n",
        "#get the importance feature\n",
        "top_features = X.columns[:][importances>0.017]\n",
        "print(\"After feature selection number of features:\", len(top_features))\n",
        "#remove the unimportant feature from data \n",
        "X_top = X[top_features]\n",
        "X_top.head(5)"
      ],
      "execution_count": 53,
      "outputs": [
        {
          "output_type": "stream",
          "text": [
            "Original number of features: 32\n",
            "After feature selection number of features: 11\n"
          ],
          "name": "stdout"
        },
        {
          "output_type": "execute_result",
          "data": {
            "text/html": [
              "<div>\n",
              "<style scoped>\n",
              "    .dataframe tbody tr th:only-of-type {\n",
              "        vertical-align: middle;\n",
              "    }\n",
              "\n",
              "    .dataframe tbody tr th {\n",
              "        vertical-align: top;\n",
              "    }\n",
              "\n",
              "    .dataframe thead th {\n",
              "        text-align: right;\n",
              "    }\n",
              "</style>\n",
              "<table border=\"1\" class=\"dataframe\">\n",
              "  <thead>\n",
              "    <tr style=\"text-align: right;\">\n",
              "      <th></th>\n",
              "      <th>age</th>\n",
              "      <th>mother_education</th>\n",
              "      <th>father_education</th>\n",
              "      <th>mother_job</th>\n",
              "      <th>failures</th>\n",
              "      <th>free_time</th>\n",
              "      <th>go_out</th>\n",
              "      <th>health</th>\n",
              "      <th>absences</th>\n",
              "      <th>period1_score</th>\n",
              "      <th>period2_score</th>\n",
              "    </tr>\n",
              "  </thead>\n",
              "  <tbody>\n",
              "    <tr>\n",
              "      <th>0</th>\n",
              "      <td>18</td>\n",
              "      <td>4</td>\n",
              "      <td>4</td>\n",
              "      <td>0</td>\n",
              "      <td>0</td>\n",
              "      <td>3</td>\n",
              "      <td>4</td>\n",
              "      <td>3</td>\n",
              "      <td>6</td>\n",
              "      <td>5</td>\n",
              "      <td>6</td>\n",
              "    </tr>\n",
              "    <tr>\n",
              "      <th>1</th>\n",
              "      <td>17</td>\n",
              "      <td>1</td>\n",
              "      <td>1</td>\n",
              "      <td>0</td>\n",
              "      <td>0</td>\n",
              "      <td>3</td>\n",
              "      <td>3</td>\n",
              "      <td>3</td>\n",
              "      <td>4</td>\n",
              "      <td>5</td>\n",
              "      <td>5</td>\n",
              "    </tr>\n",
              "    <tr>\n",
              "      <th>2</th>\n",
              "      <td>15</td>\n",
              "      <td>1</td>\n",
              "      <td>1</td>\n",
              "      <td>0</td>\n",
              "      <td>3</td>\n",
              "      <td>3</td>\n",
              "      <td>2</td>\n",
              "      <td>3</td>\n",
              "      <td>10</td>\n",
              "      <td>7</td>\n",
              "      <td>8</td>\n",
              "    </tr>\n",
              "    <tr>\n",
              "      <th>3</th>\n",
              "      <td>15</td>\n",
              "      <td>4</td>\n",
              "      <td>2</td>\n",
              "      <td>1</td>\n",
              "      <td>0</td>\n",
              "      <td>2</td>\n",
              "      <td>2</td>\n",
              "      <td>5</td>\n",
              "      <td>2</td>\n",
              "      <td>15</td>\n",
              "      <td>14</td>\n",
              "    </tr>\n",
              "    <tr>\n",
              "      <th>4</th>\n",
              "      <td>16</td>\n",
              "      <td>3</td>\n",
              "      <td>3</td>\n",
              "      <td>2</td>\n",
              "      <td>0</td>\n",
              "      <td>3</td>\n",
              "      <td>2</td>\n",
              "      <td>5</td>\n",
              "      <td>4</td>\n",
              "      <td>6</td>\n",
              "      <td>10</td>\n",
              "    </tr>\n",
              "  </tbody>\n",
              "</table>\n",
              "</div>"
            ],
            "text/plain": [
              "   age  mother_education  ...  period1_score  period2_score\n",
              "0   18                 4  ...              5              6\n",
              "1   17                 1  ...              5              5\n",
              "2   15                 1  ...              7              8\n",
              "3   15                 4  ...             15             14\n",
              "4   16                 3  ...              6             10\n",
              "\n",
              "[5 rows x 11 columns]"
            ]
          },
          "metadata": {
            "tags": []
          },
          "execution_count": 53
        }
      ]
    },
    {
      "cell_type": "markdown",
      "metadata": {
        "id": "CguKI7gpNXn2"
      },
      "source": [
        "***Split dataset into train and test set***"
      ]
    },
    {
      "cell_type": "code",
      "metadata": {
        "colab": {
          "base_uri": "https://localhost:8080/"
        },
        "id": "2Fr9eQTVztWe",
        "outputId": "0990fb29-2c25-4a6a-b05c-7c9e59d29d5f"
      },
      "source": [
        "#split dataset into train and test set\n",
        "from sklearn.model_selection import train_test_split\n",
        "print('whole dataset: ',X_top.shape)\n",
        "X_train,X_test,y_train,y_test=train_test_split(X_top,y,test_size=0.3)\n",
        "print('traning set: ',X_train.shape)\n",
        "print('testing set: ',X_test.shape)"
      ],
      "execution_count": 54,
      "outputs": [
        {
          "output_type": "stream",
          "text": [
            "whole dataset:  (1044, 11)\n",
            "traning set:  (730, 11)\n",
            "testing set:  (314, 11)\n"
          ],
          "name": "stdout"
        }
      ]
    },
    {
      "cell_type": "markdown",
      "metadata": {
        "id": "chytzWjzEZ70"
      },
      "source": [
        "Get the total columns of features"
      ]
    },
    {
      "cell_type": "code",
      "metadata": {
        "colab": {
          "base_uri": "https://localhost:8080/"
        },
        "id": "VkKXk0b3CTTM",
        "outputId": "b7af4052-8000-4138-def9-27beeca96d2f"
      },
      "source": [
        "# see total number of features\n",
        "len(list(X_train))"
      ],
      "execution_count": 55,
      "outputs": [
        {
          "output_type": "execute_result",
          "data": {
            "text/plain": [
              "11"
            ]
          },
          "metadata": {
            "tags": []
          },
          "execution_count": 55
        }
      ]
    },
    {
      "cell_type": "markdown",
      "metadata": {
        "id": "Z72FeKWuxSTz"
      },
      "source": [
        "**Decision Tree Classification**"
      ]
    },
    {
      "cell_type": "code",
      "metadata": {
        "colab": {
          "base_uri": "https://localhost:8080/"
        },
        "id": "2Z9BKQWtuFkF",
        "outputId": "cee79c30-d173-498c-86f6-e813ed776135"
      },
      "source": [
        "# find the optimal # of minimum samples leaf\n",
        "from sklearn.tree import DecisionTreeClassifier\n",
        "\n",
        "msl=[]\n",
        "for i in range(1,len(list(X_train))):\n",
        "    tree = DecisionTreeClassifier(min_samples_leaf=i)\n",
        "    t= tree.fit(X_train, y_train)\n",
        "    ts=t.score(X_test, y_test)\n",
        "    msl.append(ts)\n",
        "msl = pd.Series(msl)\n",
        "msl.where(msl==msl.max()).dropna()"
      ],
      "execution_count": 56,
      "outputs": [
        {
          "output_type": "execute_result",
          "data": {
            "text/plain": [
              "9    0.901274\n",
              "dtype: float64"
            ]
          },
          "metadata": {
            "tags": []
          },
          "execution_count": 56
        }
      ]
    },
    {
      "cell_type": "code",
      "metadata": {
        "colab": {
          "base_uri": "https://localhost:8080/"
        },
        "id": "G7ZLxc2buGjW",
        "outputId": "3c52e1b7-9978-486a-879b-a055f60406e2"
      },
      "source": [
        "tree = DecisionTreeClassifier(min_samples_leaf=16)\n",
        "t= tree.fit(X_train, y_train)\n",
        "print(\"Decisioin Tree Model Score\" , \":\" , t.score(X_train, y_train) , \",\" , \n",
        "      \"Cross Validation Score\" ,\":\" , t.score(X_test, y_test))"
      ],
      "execution_count": 57,
      "outputs": [
        {
          "output_type": "stream",
          "text": [
            "Decisioin Tree Model Score : 0.8780821917808219 , Cross Validation Score : 0.9140127388535032\n"
          ],
          "name": "stdout"
        }
      ]
    },
    {
      "cell_type": "markdown",
      "metadata": {
        "id": "eZED6L9rxUid"
      },
      "source": [
        "**Random Forest Classification**"
      ]
    },
    {
      "cell_type": "code",
      "metadata": {
        "colab": {
          "base_uri": "https://localhost:8080/"
        },
        "id": "NrhhLbuQxXEZ",
        "outputId": "a2c68db3-c3a4-4ea5-830e-8d22a1c89117"
      },
      "source": [
        "from sklearn.ensemble import RandomForestClassifier\n",
        "\n",
        "ne=[]\n",
        "for i in range(1,len(list(X_train))):\n",
        "    forest = RandomForestClassifier()\n",
        "    f = forest.fit(X_train, y_train)\n",
        "    fs = f.score(X_test, y_test)\n",
        "    ne.append(fs)\n",
        "ne = pd.Series(ne)\n",
        "ne.where(ne==ne.max()).dropna()"
      ],
      "execution_count": 58,
      "outputs": [
        {
          "output_type": "execute_result",
          "data": {
            "text/plain": [
              "0    0.926752\n",
              "dtype: float64"
            ]
          },
          "metadata": {
            "tags": []
          },
          "execution_count": 58
        }
      ]
    },
    {
      "cell_type": "code",
      "metadata": {
        "colab": {
          "base_uri": "https://localhost:8080/"
        },
        "id": "MkBNTa3RxnUh",
        "outputId": "766451b9-cbf1-460e-eefb-af781341fa69"
      },
      "source": [
        "from sklearn.ensemble import RandomForestClassifier\n",
        "\n",
        "ne=[]\n",
        "for i in range(1,len(list(X_train))):\n",
        "    forest = RandomForestClassifier(n_estimators=10, min_samples_leaf=i)\n",
        "    f = forest.fit(X_train, y_train)\n",
        "    fs = f.score(X_test, y_test)\n",
        "    ne.append(fs)\n",
        "ne = pd.Series(ne)\n",
        "ne.where(ne==ne.max()).dropna()"
      ],
      "execution_count": 59,
      "outputs": [
        {
          "output_type": "execute_result",
          "data": {
            "text/plain": [
              "3    0.914013\n",
              "dtype: float64"
            ]
          },
          "metadata": {
            "tags": []
          },
          "execution_count": 59
        }
      ]
    },
    {
      "cell_type": "code",
      "metadata": {
        "colab": {
          "base_uri": "https://localhost:8080/"
        },
        "id": "9_nAxWxex6am",
        "outputId": "72ba4d27-b94e-46fd-d78b-b5a225d1a871"
      },
      "source": [
        "forest = RandomForestClassifier(n_estimators=8, min_samples_leaf=8)\n",
        "f = forest.fit(X_train, y_train)\n",
        "print(\"Raondom Forest Model Score\" , \":\" , f.score(X_train, y_train) , \",\" ,\n",
        "      \"Cross Validation Score\" ,\":\" , f.score(X_test, y_test))"
      ],
      "execution_count": 60,
      "outputs": [
        {
          "output_type": "stream",
          "text": [
            "Raondom Forest Model Score : 0.8917808219178082 , Cross Validation Score : 0.8980891719745223\n"
          ],
          "name": "stdout"
        }
      ]
    },
    {
      "cell_type": "markdown",
      "metadata": {
        "id": "FMXd-5uWzTyq"
      },
      "source": [
        "**Support Vector Classification**"
      ]
    },
    {
      "cell_type": "code",
      "metadata": {
        "colab": {
          "base_uri": "https://localhost:8080/"
        },
        "id": "jI3rCavFzTL6",
        "outputId": "50198a13-95eb-406f-db4f-da434363a92e"
      },
      "source": [
        "from sklearn.svm import SVC\n",
        "svc = SVC()\n",
        "s= svc.fit(X_train, y_train)\n",
        "print(\"SVC Model Score\" , \":\" , s.score(X_train, y_train) , \",\" ,\n",
        "      \"Cross Validation Score\" ,\":\" , s.score(X_test, y_test))"
      ],
      "execution_count": 61,
      "outputs": [
        {
          "output_type": "stream",
          "text": [
            "SVC Model Score : 0.8780821917808219 , Cross Validation Score : 0.8885350318471338\n"
          ],
          "name": "stdout"
        }
      ]
    },
    {
      "cell_type": "markdown",
      "metadata": {
        "id": "O_2YyEifzb5K"
      },
      "source": [
        "**Logistic Regression**"
      ]
    },
    {
      "cell_type": "code",
      "metadata": {
        "colab": {
          "base_uri": "https://localhost:8080/"
        },
        "id": "BLcytJABzeoC",
        "outputId": "c38d8ba3-96f3-4476-8e6d-7ee5ccc44c2a"
      },
      "source": [
        "from sklearn.linear_model import LogisticRegression\n",
        "lr = LogisticRegression(multi_class='multinomial', solver='newton-cg',fit_intercept=True)\n",
        "\n",
        "from sklearn.feature_selection import SelectKBest, chi2\n",
        "\n",
        "ks=[]\n",
        "for i in range(1,len(list(X_train))):\n",
        "    sk = SelectKBest(chi2, k=i)\n",
        "    x_new = sk.fit_transform(X_train,y_train)\n",
        "    x_new_test=sk.fit_transform(X_test,y_test)\n",
        "    l = lr.fit(x_new, y_train)\n",
        "    ll = l.score(x_new_test, y_test)\n",
        "    ks.append(ll)  \n",
        "    \n",
        "ks = pd.Series(ks)\n",
        "ks = ks.reindex(list(range(1,len(list(X_train)))))\n",
        "ks"
      ],
      "execution_count": 62,
      "outputs": [
        {
          "output_type": "execute_result",
          "data": {
            "text/plain": [
              "1     0.923567\n",
              "2     0.920382\n",
              "3     0.910828\n",
              "4     0.914013\n",
              "5     0.917197\n",
              "6     0.901274\n",
              "7     0.904459\n",
              "8     0.904459\n",
              "9     0.859873\n",
              "10         NaN\n",
              "dtype: float64"
            ]
          },
          "metadata": {
            "tags": []
          },
          "execution_count": 62
        }
      ]
    },
    {
      "cell_type": "markdown",
      "metadata": {
        "id": "XBQ6lHnOAGrt"
      },
      "source": [
        "Prediction of accuracy drops at 12 features"
      ]
    },
    {
      "cell_type": "code",
      "metadata": {
        "colab": {
          "base_uri": "https://localhost:8080/",
          "height": 377
        },
        "id": "0GXln2qI0Afk",
        "outputId": "cce248ea-4535-48a9-d2cf-8568c3b21b44"
      },
      "source": [
        "plt.figure(figsize=(10,5))\n",
        "ks.plot.line()\n",
        "plt.title('Feature Selction', fontsize=20)\n",
        "plt.xlabel('Number of Feature Used', fontsize=16)\n",
        "plt.ylabel('Prediction Accuracy', fontsize=16)"
      ],
      "execution_count": 63,
      "outputs": [
        {
          "output_type": "execute_result",
          "data": {
            "text/plain": [
              "Text(0, 0.5, 'Prediction Accuracy')"
            ]
          },
          "metadata": {
            "tags": []
          },
          "execution_count": 63
        },
        {
          "output_type": "display_data",
          "data": {
            "image/png": "[encoded data removed]",
            "text/plain": [
              "<Figure size 720x360 with 1 Axes>"
            ]
          },
          "metadata": {
            "tags": []
          }
        }
      ]
    },
    {
      "cell_type": "code",
      "metadata": {
        "colab": {
          "base_uri": "https://localhost:8080/"
        },
        "id": "IKLu4bNb0H7p",
        "outputId": "0ac9251d-7829-4a7a-c16f-651582fb6712"
      },
      "source": [
        "ks.where(ks==ks.max()).dropna()"
      ],
      "execution_count": 64,
      "outputs": [
        {
          "output_type": "execute_result",
          "data": {
            "text/plain": [
              "1    0.923567\n",
              "dtype: float64"
            ]
          },
          "metadata": {
            "tags": []
          },
          "execution_count": 64
        }
      ]
    },
    {
      "cell_type": "markdown",
      "metadata": {
        "id": "eJVhdAtxATD-"
      },
      "source": [
        "Therefore, we are selection the best 12 features for this model"
      ]
    },
    {
      "cell_type": "code",
      "metadata": {
        "colab": {
          "base_uri": "https://localhost:8080/"
        },
        "id": "2gEjZC4Q1OF_",
        "outputId": "0944085a-bf5c-47e8-a30e-0abd4e048d95"
      },
      "source": [
        "# final model\n",
        "sk = SelectKBest(chi2, k=7)\n",
        "x_new = sk.fit_transform(X_train,y_train)\n",
        "x_new_test=sk.fit_transform(X_test,y_test)\n",
        "lr = lr.fit(x_new, y_train)\n",
        "print(\"Logistic Regression Model Score\" , \":\" , lr.score(x_new, y_train) , \",\" ,\n",
        "      \"Cross Validation Score\" ,\":\" , lr.score(x_new_test, y_test))"
      ],
      "execution_count": 65,
      "outputs": [
        {
          "output_type": "stream",
          "text": [
            "Logistic Regression Model Score : 0.8808219178082192 , Cross Validation Score : 0.9012738853503185\n"
          ],
          "name": "stdout"
        }
      ]
    },
    {
      "cell_type": "markdown",
      "metadata": {
        "id": "tnQuTtA31dCR"
      },
      "source": [
        "Ada Boost Classification"
      ]
    },
    {
      "cell_type": "code",
      "metadata": {
        "colab": {
          "base_uri": "https://localhost:8080/"
        },
        "id": "ZJgIY8uP1baM",
        "outputId": "c5e902d6-b7e9-49f8-ea22-86d9ca87eeb8"
      },
      "source": [
        "from sklearn.ensemble import AdaBoostClassifier\n",
        "ada = AdaBoostClassifier(n_estimators=2)\n",
        "af = ada.fit(X_train, y_train)\n",
        "print(\"Ada Boost Model Score\" , \":\" , af.score(X_train, y_train) , \",\" ,\n",
        "      \"Cross Validation Score\" ,\":\" , af.score(X_test, y_test))"
      ],
      "execution_count": 66,
      "outputs": [
        {
          "output_type": "stream",
          "text": [
            "Ada Boost Model Score : 0.8561643835616438 , Cross Validation Score : 0.8949044585987261\n"
          ],
          "name": "stdout"
        }
      ]
    },
    {
      "cell_type": "markdown",
      "metadata": {
        "id": "AUgDRRG_1mZ2"
      },
      "source": [
        "Stochastic Gradient Descent Classification"
      ]
    },
    {
      "cell_type": "code",
      "metadata": {
        "colab": {
          "base_uri": "https://localhost:8080/"
        },
        "id": "4nSP7q9C1lvQ",
        "outputId": "d8ecaedc-42df-4bfe-bcb8-187c2e34dec9"
      },
      "source": [
        "from sklearn.linear_model import SGDClassifier\n",
        "sgd = SGDClassifier()\n",
        "sf = sgd.fit(X_train, y_train)\n",
        "print(\"Stochastic Gradient Descent Model Score\" , \":\" , sf.score(X_train, y_train) , \",\" ,\n",
        "      \"Cross Validation Score\" ,\":\" , sf.score(X_test, y_test))"
      ],
      "execution_count": 67,
      "outputs": [
        {
          "output_type": "stream",
          "text": [
            "Stochastic Gradient Descent Model Score : 0.5821917808219178 , Cross Validation Score : 0.5923566878980892\n"
          ],
          "name": "stdout"
        }
      ]
    }
  ]
}